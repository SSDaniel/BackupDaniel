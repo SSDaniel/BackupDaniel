{
  "nbformat": 4,
  "nbformat_minor": 0,
  "metadata": {
    "colab": {
      "provenance": [],
      "authorship_tag": "ABX9TyPCM5r9Lv8E416HOw/GbfpW",
      "include_colab_link": true
    },
    "kernelspec": {
      "name": "python3",
      "display_name": "Python 3"
    },
    "language_info": {
      "name": "python"
    }
  },
  "cells": [
    {
      "cell_type": "markdown",
      "metadata": {
        "id": "view-in-github",
        "colab_type": "text"
      },
      "source": [
        "<a href=\"https://colab.research.google.com/github/SSDaniel/BackupDaniel/blob/master/POC_FILTRO_DE_DISTANCIA.ipynb\" target=\"_parent\"><img src=\"https://colab.research.google.com/assets/colab-badge.svg\" alt=\"Open In Colab\"/></a>"
      ]
    },
    {
      "cell_type": "code",
      "source": [
        "import folium\n",
        "import pandas as pd\n",
        "from geopy.distance import geodesic"
      ],
      "metadata": {
        "id": "5MGtGzEG-lzP"
      },
      "execution_count": null,
      "outputs": []
    },
    {
      "cell_type": "code",
      "source": [
        "################################# VALIDANDO .CSV #####################################################\n",
        "\n",
        "# Carregando e visualizando as primeiras linhas do arquivo para verificar cabeçalhos e delimitadores\n",
        "\n",
        "try:\n",
        "    data = pd.read_csv('empresas.csv', on_bad_lines='skip')\n",
        "    print(data.head())\n",
        "except pd.errors.ParserError as e:\n",
        "    print(\"Erro ao ler o arquivo:\", e)\n",
        "######################################################################################################"
      ],
      "metadata": {
        "colab": {
          "base_uri": "https://localhost:8080/"
        },
        "id": "DW137lTg74V8",
        "outputId": "146c7d32-28e4-4921-98a8-bb9a9ea76d31"
      },
      "execution_count": 13,
      "outputs": [
        {
          "output_type": "stream",
          "name": "stdout",
          "text": [
            "  Nome da Empresa  Latitude  Longitude\n",
            "0               a -7.118758 -34.978870\n",
            "1               x -7.118758 -34.978870\n",
            "2               y -7.118712 -34.850608\n",
            "3               z -7.124283 -34.847482\n",
            "4               w -7.124283 -34.847482\n"
          ]
        }
      ]
    },
    {
      "cell_type": "code",
      "source": [
        "# Caminho para o arquivo CSV\n",
        "file_path = 'empresas.csv'  # Atualize isso com o caminho correto\n",
        "\n",
        "# Coordenadas de referência\n",
        "base_latitude = -7.119102712320819\n",
        "base_longitude = -34.83642905037309\n",
        "radius_km = 50\n",
        "\n",
        "\n",
        "def read_data(file_path):\n",
        "    # Lê os dados do arquivo CSV\n",
        "    return pd.read_csv(file_path)\n",
        "\n",
        "def filter_companies(base_latitude, base_longitude, companies, radius_km):\n",
        "    # Filtra e retorna as empresas dentro do raio de 15 km\n",
        "    filtered_companies = []\n",
        "    for index, row in companies.iterrows():\n",
        "        company_coords = (row['Latitude'], row['Longitude'])\n",
        "        if geodesic((base_latitude, base_longitude), company_coords).km <= radius_km:\n",
        "            filtered_companies.append(row)\n",
        "    return pd.DataFrame(filtered_companies)\n",
        "\n",
        "def generate_map(latitude, longitude, companies):\n",
        "    # Criação do mapa centrado na localização fornecida\n",
        "    base_map = folium.Map(location=[latitude, longitude], zoom_start=13)\n",
        "\n",
        "    # Adicionando marcadores para cada empresa dentro do raio\n",
        "    for index, company in companies.iterrows():\n",
        "        folium.Marker(\n",
        "            location=[company['Latitude'], company['Longitude']],\n",
        "            popup=company['Nome da Empresa'],\n",
        "            icon=folium.Icon(color='blue', icon='info-sign')\n",
        "        ).add_to(base_map)\n",
        "\n",
        "    # Círculo de 15 km de raio\n",
        "    folium.Circle(\n",
        "        [latitude, longitude],\n",
        "        radius=radius_km*1000,\n",
        "        color='red',\n",
        "        fill=True,\n",
        "        fill_color='red',\n",
        "        fill_opacity=0.1\n",
        "    ).add_to(base_map)\n",
        "\n",
        "    return base_map\n",
        "\n",
        "# Processo de leitura e filtragem dos dados\n",
        "data = read_data(file_path)\n",
        "filtered_companies = filter_companies(base_latitude, base_longitude, data, radius_km)\n",
        "\n",
        "# Geração do mapa\n",
        "mapa = generate_map(base_latitude, base_longitude, filtered_companies)\n",
        "mapa.save(\"mapa.html\")\n"
      ],
      "metadata": {
        "id": "CY3_ebKdvfoT"
      },
      "execution_count": 27,
      "outputs": []
    },
    {
      "cell_type": "code",
      "source": [
        "import pandas as pd\n",
        "import folium\n",
        "from geopy.distance import geodesic\n",
        "\n",
        "# Caminho para o arquivo CSV\n",
        "file_path = 'empresas.csv'  # Atualize isso com o caminho correto\n",
        "\n",
        "# Coordenadas de referência\n",
        "base_latitude = -7.119102712320819\n",
        "base_longitude = -34.83642905037309\n",
        "radius_km = 5\n",
        "\n",
        "def read_data(file_path):\n",
        "    # Lê os dados do arquivo CSV\n",
        "    return pd.read_csv(file_path)\n",
        "\n",
        "def filter_companies(base_latitude, base_longitude, companies, radius_km):\n",
        "    # Filtra e retorna as empresas dentro do raio especificado\n",
        "    filtered_companies = []\n",
        "    print(\"Empresas dentro do raio de {} km:\".format(radius_km))\n",
        "    for index, row in companies.iterrows():\n",
        "        company_coords = (row['Latitude'], row['Longitude'])\n",
        "        if geodesic((base_latitude, base_longitude), company_coords).km <= radius_km:\n",
        "            filtered_companies.append(row)\n",
        "            # Imprime os detalhes da empresa no terminal\n",
        "            print(f\"{row['Nome da Empresa']}: Latitude {row['Latitude']}, Longitude {row['Longitude']}\")\n",
        "    return pd.DataFrame(filtered_companies)\n",
        "\n",
        "def generate_map(latitude, longitude, companies):\n",
        "    # Criação do mapa centrado na localização fornecida\n",
        "    base_map = folium.Map(location=[latitude, longitude], zoom_start=13)\n",
        "\n",
        "    # Adicionando marcadores para cada empresa dentro do raio\n",
        "    for index, company in companies.iterrows():\n",
        "        folium.Marker(\n",
        "            location=[company['Latitude'], company['Longitude']],\n",
        "            popup=company['Nome da Empresa'],\n",
        "            icon=folium.Icon(color='blue', icon='info-sign')\n",
        "        ).add_to(base_map)\n",
        "\n",
        "    # Círculo de 15 km de raio\n",
        "    folium.Circle(\n",
        "        [latitude, longitude],\n",
        "        radius=radius_km*1000,\n",
        "        color='red',\n",
        "        fill=True,\n",
        "        fill_color='red',\n",
        "        fill_opacity=0.1\n",
        "    ).add_to(base_map)\n",
        "\n",
        "    return base_map\n",
        "\n",
        "# Processo de leitura e filtragem dos dados\n",
        "data = read_data(file_path)\n",
        "filtered_companies = filter_companies(base_latitude, base_longitude, data, radius_km)\n",
        "\n",
        "# Geração do mapa\n",
        "mapa = generate_map(base_latitude, base_longitude, filtered_companies)\n",
        "mapa.save(\"mapa_print_terminal.html\")\n"
      ],
      "metadata": {
        "colab": {
          "base_uri": "https://localhost:8080/"
        },
        "id": "yjBt64C6AOPW",
        "outputId": "4cdf4c63-8e1e-453b-d082-8025959c11a2"
      },
      "execution_count": 29,
      "outputs": [
        {
          "output_type": "stream",
          "name": "stdout",
          "text": [
            "Empresas dentro do raio de 5 km:\n",
            "y: Latitude -7.118712268146572, Longitude -34.85060783097069\n",
            "z: Latitude -7.124282919663505, Longitude -34.84748222047703\n",
            "w: Latitude -7.124282919663505, Longitude -34.84748222047703\n"
          ]
        }
      ]
    }
  ]
}